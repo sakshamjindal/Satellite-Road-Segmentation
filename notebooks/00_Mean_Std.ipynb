{
 "cells": [
  {
   "cell_type": "code",
   "execution_count": 3,
   "id": "797d4f5c-66cc-4f34-a593-29ca69b10b97",
   "metadata": {},
   "outputs": [
    {
     "name": "stdout",
     "output_type": "stream",
     "text": [
      "elapsed time: 271.3522926932201\n",
      "mean:[0.4284687070054998, 0.4314829391019595, 0.39509143287278337]\n",
      "std:[0.2920699753022457, 0.285627042080093, 0.2974879931626558]\n"
     ]
    }
   ],
   "source": [
    "import numpy as np\n",
    "from os import listdir\n",
    "from os.path import join, isdir\n",
    "from glob import glob\n",
    "import cv2\n",
    "import timeit\n",
    "\n",
    "# number of channels of the dataset image, 3 for color jpg, 1 for grayscale img\n",
    "# you need to change it to reflect your dataset\n",
    "CHANNEL_NUM = 3\n",
    "\n",
    "\n",
    "def cal_dir_stat(root):\n",
    "\n",
    "    pixel_num = 0\n",
    "    channel_sum = np.zeros(CHANNEL_NUM)\n",
    "    channel_sum_squared = np.zeros(CHANNEL_NUM)\n",
    "\n",
    "    im_pths = glob(root + \"/*\")\n",
    "\n",
    "    for path in im_pths:\n",
    "        im = cv2.imread(path) # image in M*N*CHANNEL_NUM shape, channel in BGR order\n",
    "        im = im/255.0\n",
    "        pixel_num += (im.size/CHANNEL_NUM)\n",
    "        channel_sum += np.sum(im, axis=(0, 1))\n",
    "        channel_sum_squared += np.sum(np.square(im), axis=(0, 1))\n",
    "\n",
    "    bgr_mean = channel_sum / pixel_num\n",
    "    bgr_std = np.sqrt(channel_sum_squared / pixel_num - np.square(bgr_mean))\n",
    "    \n",
    "    # change the format from bgr to rgb\n",
    "    rgb_mean = list(bgr_mean)[::-1]\n",
    "    rgb_std = list(bgr_std)[::-1]\n",
    "    \n",
    "    return rgb_mean, rgb_std\n",
    "\n",
    "# The script assumes that under train_root, there are separate directories for each class\n",
    "# of training images.\n",
    "train_root = \"/scratch/saksham/data/road_segmentation_ideal/training/input\"\n",
    "start = timeit.default_timer()\n",
    "mean, std = cal_dir_stat(train_root)\n",
    "end = timeit.default_timer()\n",
    "print(\"elapsed time: {}\".format(end-start))\n",
    "print(\"mean:{}\\nstd:{}\".format(mean, std))"
   ]
  },
  {
   "cell_type": "code",
   "execution_count": null,
   "id": "448ce0a0-d553-42ca-b6e6-f5127779a0ee",
   "metadata": {},
   "outputs": [],
   "source": []
  }
 ],
 "metadata": {
  "kernelspec": {
   "display_name": "Python 3",
   "language": "python",
   "name": "python3"
  },
  "language_info": {
   "codemirror_mode": {
    "name": "ipython",
    "version": 3
   },
   "file_extension": ".py",
   "mimetype": "text/x-python",
   "name": "python",
   "nbconvert_exporter": "python",
   "pygments_lexer": "ipython3",
   "version": "3.8.5"
  }
 },
 "nbformat": 4,
 "nbformat_minor": 5
}
